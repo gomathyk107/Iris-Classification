{
 "cells": [
  {
   "cell_type": "code",
   "execution_count": 36,
   "id": "b0e686e0",
   "metadata": {},
   "outputs": [],
   "source": [
    "# Import required libraries\n",
    "import os\n",
    "import sys\n",
    "import numpy as np\n",
    "import pandas as pd\n",
    "import matplotlib.pyplot as plt\n",
    "#import seaborn as sns\n",
    "import joblib\n",
    "from sklearn.model_selection import train_test_split, GridSearchCV\n",
    "from sklearn.linear_model import LogisticRegression\n",
    "from sklearn.ensemble import RandomForestClassifier\n",
    "from sklearn.svm import SVC\n",
    "from sklearn.metrics import accuracy_score, precision_score, recall_score, f1_score, confusion_matrix, classification_report, roc_curve, auc"
   ]
  },
  {
   "cell_type": "code",
   "execution_count": 33,
   "id": "891acf5a",
   "metadata": {},
   "outputs": [],
   "source": [
    "import mlflow\n",
    "import mlflow.sklearn"
   ]
  },
  {
   "cell_type": "code",
   "execution_count": 2,
   "id": "accd0afd",
   "metadata": {},
   "outputs": [],
   "source": [
    "# Add the src directory to the path for importing our utility modules\n",
    "sys.path.append('../')\n",
    "from src.model_utils import evaluate_model, save_model, load_model"
   ]
  },
  {
   "cell_type": "code",
   "execution_count": 41,
   "id": "6af99f81",
   "metadata": {},
   "outputs": [],
   "source": [
    "# Set paths\n",
    "DATA_DIR = '../Data'\n",
    "PROCESSED_DATA_DIR = os.path.join(DATA_DIR, 'processed')\n",
    "MODEL_DIR = os.path.join('../models')\n",
    "os.makedirs(MODEL_DIR, exist_ok=True)"
   ]
  },
  {
   "cell_type": "code",
   "execution_count": 42,
   "id": "c68ae012",
   "metadata": {},
   "outputs": [
    {
     "name": "stdout",
     "output_type": "stream",
     "text": [
      "Loaded training data: 120 samples with 6 features\n",
      "Loaded testing data: 30 samples with 6 features\n",
      "Feature names: ['sepal_length', 'sepal_width', 'petal_length', 'petal_width', 'SepalArea', 'PetalArea']\n"
     ]
    }
   ],
   "source": [
    "# Load the prepared data\n",
    "train_data_path = os.path.join(PROCESSED_DATA_DIR, 'train_data.npz')\n",
    "test_data_path = os.path.join(PROCESSED_DATA_DIR, 'test_data.npz')\n",
    "\n",
    "train_data = np.load(train_data_path)\n",
    "test_data = np.load(test_data_path)\n",
    "\n",
    "X_train = train_data['X']\n",
    "y_train = train_data['y']\n",
    "X_test = test_data['X']\n",
    "y_test = test_data['y']\n",
    "\n",
    "# Load feature names for reference\n",
    "feature_names_path = os.path.join(PROCESSED_DATA_DIR, 'feature_names.joblib')\n",
    "feature_names = joblib.load(feature_names_path)\n",
    "\n",
    "# Load the scaler\n",
    "scaler_path = os.path.join(PROCESSED_DATA_DIR, 'scaler.joblib')\n",
    "scaler = joblib.load(scaler_path)\n",
    "\n",
    "print(f\"Loaded training data: {X_train.shape[0]} samples with {X_train.shape[1]} features\")\n",
    "print(f\"Loaded testing data: {X_test.shape[0]} samples with {X_test.shape[1]} features\")\n",
    "print(f\"Feature names: {feature_names}\")"
   ]
  },
  {
   "cell_type": "code",
   "execution_count": 43,
   "id": "98b80f31",
   "metadata": {},
   "outputs": [
    {
     "data": {
      "text/plain": [
       "<Experiment: artifact_location='file:d:/MLOPS/Iris-Classification/notebooks/../models/mlruns/484549340631699792', creation_time=1753519665597, experiment_id='484549340631699792', last_update_time=1753519665597, lifecycle_stage='active', name='Iris_Model_Tracking', tags={}>"
      ]
     },
     "execution_count": 43,
     "metadata": {},
     "output_type": "execute_result"
    }
   ],
   "source": [
    "mlflow.set_tracking_uri(\"file:../models/mlruns\")\n",
    "mlflow.set_experiment(\"Iris_Model_Tracking\")"
   ]
  },
  {
   "cell_type": "code",
   "execution_count": 44,
   "id": "b399ce49",
   "metadata": {},
   "outputs": [
    {
     "name": "stderr",
     "output_type": "stream",
     "text": [
      "2025/07/26 17:28:13 WARNING mlflow.models.model: `artifact_path` is deprecated. Please use `name` instead.\n",
      "2025/07/26 17:28:18 WARNING mlflow.models.model: Model logged without a signature and input example. Please set `input_example` parameter when logging the model to auto infer the model signature.\n"
     ]
    },
    {
     "name": "stdout",
     "output_type": "stream",
     "text": [
      "Logistic Regression - Accuracy: 1.0000, F1 Score: 1.0000\n"
     ]
    },
    {
     "name": "stderr",
     "output_type": "stream",
     "text": [
      "Registered model 'LogisticRegression' already exists. Creating a new version of this model...\n",
      "Created version '2' of model 'LogisticRegression'.\n"
     ]
    }
   ],
   "source": [
    "# Cell 2: Train Logistic Regression\n",
    "with mlflow.start_run(run_name=\"LogisticRegression\"):\n",
    "    lr = LogisticRegression(max_iter=200,random_state=45)\n",
    "    lr.fit(X_train, y_train)\n",
    "    y_pred = lr.predict(X_test)\n",
    "    \n",
    "    acc = accuracy_score(y_test, y_pred)\n",
    "    precision = precision_score(y_test, y_pred, average=\"macro\")\n",
    "    recall = recall_score(y_test, y_pred, average=\"macro\")\n",
    "    f1 = f1_score(y_test, y_pred, average=\"macro\")\n",
    "    \n",
    "    mlflow.log_param(\"max_iter\", 200)\n",
    "    mlflow.log_metric(\"accuracy\", acc)\n",
    "    mlflow.log_metric(\"Precision\", precision)\n",
    "    mlflow.log_metric(\"Recall\",recall)\n",
    "    mlflow.log_metric(\"f1_score\", f1)\n",
    "    \n",
    "    mlflow.sklearn.log_model(lr, \"model\", registered_model_name=\"LogisticRegression\")\n",
    "    \n",
    "    print(f\"Logistic Regression - Accuracy: {acc:.4f}, F1 Score: {f1:.4f}\")\n"
   ]
  },
  {
   "cell_type": "code",
   "execution_count": 45,
   "id": "b7b35a8d",
   "metadata": {},
   "outputs": [
    {
     "name": "stderr",
     "output_type": "stream",
     "text": [
      "2025/07/26 17:28:37 WARNING mlflow.models.model: `artifact_path` is deprecated. Please use `name` instead.\n",
      "2025/07/26 17:28:41 WARNING mlflow.models.model: Model logged without a signature and input example. Please set `input_example` parameter when logging the model to auto infer the model signature.\n"
     ]
    },
    {
     "name": "stdout",
     "output_type": "stream",
     "text": [
      "Best Params: {'C': 10, 'penalty': 'l1', 'solver': 'liblinear'}\n",
      "Test Accuracy: 1.000 | Precision: 1.000 | Recall: 1.000 | F1: 1.000\n"
     ]
    }
   ],
   "source": [
    "mlflow.set_tracking_uri(\"file:../models/mlruns\")  # Optional\n",
    "mlflow.set_experiment(\"LogReg_Hyperparam_Tuning\")\n",
    "\n",
    "param_grid = {\n",
    "    'C': [0.01, 0.1, 1, 10],               # Inverse of regularization strength\n",
    "    'penalty': ['l1', 'l2'],              # Type of regularization\n",
    "    'solver': ['liblinear']              # 'liblinear' supports both l1 and l2\n",
    "}\n",
    "\n",
    "mlflow.set_tracking_uri(\"file:../models/mlruns\")  # Log to models folder\n",
    "mlflow.set_experiment(\"LogReg_Hyperparam_Tuning\")\n",
    "\n",
    "with mlflow.start_run(run_name=\"LogReg_GridSearch_Metrics\"):\n",
    "    grid = GridSearchCV(\n",
    "        LogisticRegression(max_iter=500),\n",
    "        param_grid,\n",
    "        cv=5,\n",
    "        scoring='accuracy',\n",
    "        n_jobs=-1\n",
    "    )\n",
    "    grid.fit(X_train, y_train)\n",
    "\n",
    "    best_model = grid.best_estimator_\n",
    "    y_pred = best_model.predict(X_test)\n",
    "\n",
    "    # ⚠️ Use average='macro' for multi-class metrics\n",
    "    acc = accuracy_score(y_test, y_pred)\n",
    "    prec = precision_score(y_test, y_pred, average='macro')\n",
    "    rec = recall_score(y_test, y_pred, average='macro')\n",
    "    f1 = f1_score(y_test, y_pred, average='macro')\n",
    "\n",
    "    # 📌 Log metrics to MLflow\n",
    "    mlflow.log_params(grid.best_params_)\n",
    "    mlflow.log_metric(\"accuracy\", acc)\n",
    "    mlflow.log_metric(\"precision\", prec)\n",
    "    mlflow.log_metric(\"recall\", rec)\n",
    "    mlflow.log_metric(\"f1_score\", f1)\n",
    "\n",
    "    # 📁 Log the model itself\n",
    "    mlflow.sklearn.log_model(best_model, \"best_model\")\n",
    "\n",
    "    print(\"Best Params:\", grid.best_params_)\n",
    "    print(f\"Test Accuracy: {acc:.3f} | Precision: {prec:.3f} | Recall: {rec:.3f} | F1: {f1:.3f}\")\n"
   ]
  },
  {
   "cell_type": "code",
   "execution_count": 20,
   "id": "d0c21e50",
   "metadata": {},
   "outputs": [
    {
     "name": "stderr",
     "output_type": "stream",
     "text": [
      "2025/07/26 13:52:00 WARNING mlflow.models.model: `artifact_path` is deprecated. Please use `name` instead.\n",
      "2025/07/26 13:52:02 WARNING mlflow.models.model: Model logged without a signature and input example. Please set `input_example` parameter when logging the model to auto infer the model signature.\n"
     ]
    },
    {
     "name": "stdout",
     "output_type": "stream",
     "text": [
      "Random Forest - Accuracy: 1.0000, F1 Score: 1.0000\n"
     ]
    },
    {
     "name": "stderr",
     "output_type": "stream",
     "text": [
      "Registered model 'RandomForest' already exists. Creating a new version of this model...\n",
      "Created version '2' of model 'RandomForest'.\n"
     ]
    }
   ],
   "source": [
    "# Cell 3: Train Random Forest\n",
    "with mlflow.start_run(run_name=\"RandomForest\"):\n",
    "    rf = RandomForestClassifier(n_estimators=100, max_depth=4, random_state=42)\n",
    "    rf.fit(X_train, y_train)\n",
    "    y_pred = rf.predict(X_test)\n",
    "    \n",
    "    acc = accuracy_score(y_test, y_pred)\n",
    "    f1 = f1_score(y_test, y_pred, average=\"macro\")\n",
    "    \n",
    "    mlflow.log_param(\"n_estimators\", 100)\n",
    "    mlflow.log_param(\"max_depth\", 4)\n",
    "    mlflow.log_metric(\"accuracy\", acc)\n",
    "    mlflow.log_metric(\"f1_score\", f1)\n",
    "    \n",
    "    mlflow.sklearn.log_model(rf, \"model\", registered_model_name=\"RandomForest\")\n",
    "    \n",
    "    print(f\"Random Forest - Accuracy: {acc:.4f}, F1 Score: {f1:.4f}\")\n"
   ]
  },
  {
   "cell_type": "code",
   "execution_count": 46,
   "id": "a23f6dbd",
   "metadata": {},
   "outputs": [
    {
     "name": "stderr",
     "output_type": "stream",
     "text": [
      "2025/07/26 17:28:58 WARNING mlflow.models.model: `artifact_path` is deprecated. Please use `name` instead.\n",
      "2025/07/26 17:29:03 WARNING mlflow.models.model: Model logged without a signature and input example. Please set `input_example` parameter when logging the model to auto infer the model signature.\n"
     ]
    },
    {
     "name": "stdout",
     "output_type": "stream",
     "text": [
      "✅ Best Params: {'max_depth': 3, 'min_samples_split': 2, 'n_estimators': 50}\n",
      "📊 Accuracy: 1.000 | Precision: 1.000 | Recall: 1.000 | F1: 1.000\n"
     ]
    }
   ],
   "source": [
    "# Set MLflow to log into your desired folder (relative to notebooks/)\n",
    "mlflow.set_tracking_uri(\"file:../models/mlruns\")\n",
    "mlflow.set_experiment(\"RandomForest_Hyperparam_Tuning\")\n",
    "\n",
    "param_grid = {\n",
    "    'n_estimators': [50, 100, 150],\n",
    "    'max_depth': [3, 5, 10],\n",
    "    'min_samples_split': [2, 4]\n",
    "}\n",
    "\n",
    "\n",
    "with mlflow.start_run(run_name=\"RandomForest_GridSearch_Metrics\"):\n",
    "    # Grid Search with Cross-Validation\n",
    "    grid = GridSearchCV(\n",
    "        RandomForestClassifier(random_state=42),\n",
    "        param_grid,\n",
    "        cv=5,\n",
    "        scoring='accuracy',\n",
    "        n_jobs=-1\n",
    "    )\n",
    "    grid.fit(X_train, y_train)\n",
    "\n",
    "    best_model = grid.best_estimator_\n",
    "    y_pred = best_model.predict(X_test)\n",
    "\n",
    "    # ⚠️ Use average='macro' for multi-class metrics\n",
    "    acc = accuracy_score(y_test, y_pred)\n",
    "    prec = precision_score(y_test, y_pred, average='macro')\n",
    "    rec = recall_score(y_test, y_pred, average='macro')\n",
    "    f1 = f1_score(y_test, y_pred, average='macro')\n",
    "\n",
    "    # Log best parameters and metrics\n",
    "    mlflow.log_params(grid.best_params_)\n",
    "    mlflow.log_metric(\"accuracy\", acc)\n",
    "    mlflow.log_metric(\"precision\", prec)\n",
    "    mlflow.log_metric(\"recall\", rec)\n",
    "    mlflow.log_metric(\"f1_score\", f1)\n",
    "\n",
    "    # Save the model\n",
    "    mlflow.sklearn.log_model(best_model, \"best_model\")\n",
    "\n",
    "    print(\"✅ Best Params:\", grid.best_params_)\n",
    "    print(f\"📊 Accuracy: {acc:.3f} | Precision: {prec:.3f} | Recall: {rec:.3f} | F1: {f1:.3f}\")\n"
   ]
  },
  {
   "cell_type": "code",
   "execution_count": 47,
   "id": "61485f29",
   "metadata": {},
   "outputs": [
    {
     "name": "stderr",
     "output_type": "stream",
     "text": [
      "2025/07/26 17:29:10 WARNING mlflow.models.model: `artifact_path` is deprecated. Please use `name` instead.\n",
      "2025/07/26 17:29:14 WARNING mlflow.models.model: Model logged without a signature and input example. Please set `input_example` parameter when logging the model to auto infer the model signature.\n",
      "2025/07/26 17:29:14 WARNING mlflow.models.model: `artifact_path` is deprecated. Please use `name` instead.\n",
      "2025/07/26 17:29:19 WARNING mlflow.models.model: Model logged without a signature and input example. Please set `input_example` parameter when logging the model to auto infer the model signature.\n"
     ]
    }
   ],
   "source": [
    "# Set tracking URI and experiment\n",
    "mlflow.set_tracking_uri(\"file:../models/mlruns\")\n",
    "mlflow.set_experiment(\"Iris_Comparison\")\n",
    "\n",
    "\n",
    "best_model = None\n",
    "best_f1 = 0\n",
    "best_run_id = None\n",
    "best_name = \"\"\n",
    "\n",
    "# ---------- Logistic Regression ----------\n",
    "with mlflow.start_run(run_name=\"LogisticRegression\") as run:\n",
    "    model = LogisticRegression(max_iter=500, solver='liblinear', C=1.0)\n",
    "    model.fit(X_train, y_train)\n",
    "    preds = model.predict(X_test)\n",
    "\n",
    "    f1 = f1_score(y_test, preds, average='macro')\n",
    "    mlflow.log_metric(\"f1_score\", f1)\n",
    "    mlflow.sklearn.log_model(model, \"model\")\n",
    "\n",
    "    if f1 > best_f1:\n",
    "        best_f1 = f1\n",
    "        best_model = model\n",
    "        best_run_id = run.info.run_id\n",
    "        best_name = \"LogisticRegression\"\n",
    "\n",
    "# ---------- Random Forest ----------\n",
    "with mlflow.start_run(run_name=\"RandomForest\") as run:\n",
    "    model = RandomForestClassifier(n_estimators=50, max_depth=3,min_samples_split=2)\n",
    "    model.fit(X_train, y_train)\n",
    "    preds = model.predict(X_test)\n",
    "\n",
    "    f1 = f1_score(y_test, preds, average='macro')\n",
    "    mlflow.log_metric(\"f1_score\", f1)\n",
    "    mlflow.sklearn.log_model(model, \"model\")\n",
    "\n",
    "    if f1 > best_f1:\n",
    "        best_f1 = f1\n",
    "        best_model = model\n",
    "        best_run_id = run.info.run_id\n",
    "        best_name = \"RandomForest\"\n"
   ]
  },
  {
   "cell_type": "code",
   "execution_count": 48,
   "id": "a0318ad3",
   "metadata": {},
   "outputs": [
    {
     "name": "stderr",
     "output_type": "stream",
     "text": [
      "Registered model 'IrisBestModel' already exists. Creating a new version of this model...\n",
      "2025/07/26 17:29:32 WARNING mlflow.tracking._model_registry.fluent: Run with id 0f4b514109b04c949b12ae4dd83c8e08 has no artifacts at artifact path 'model', registering model based on models:/m-c24f54082aec4688b1a70e3982650b90 instead\n"
     ]
    },
    {
     "name": "stderr",
     "output_type": "stream",
     "text": [
      "Created version '2' of model 'IrisBestModel'.\n"
     ]
    },
    {
     "data": {
      "text/plain": [
       "<ModelVersion: aliases=[], creation_timestamp=1753531172068, current_stage='None', deployment_job_state=None, description=None, last_updated_timestamp=1753531172068, metrics=[<Metric: dataset_digest=None, dataset_name=None, key='f1_score', model_id='m-c24f54082aec4688b1a70e3982650b90', run_id='0f4b514109b04c949b12ae4dd83c8e08', step=0, timestamp=1753531154920, value=1.0>], model_id='m-c24f54082aec4688b1a70e3982650b90', name='IrisBestModel', params={}, run_id='0f4b514109b04c949b12ae4dd83c8e08', run_link=None, source='models:/m-c24f54082aec4688b1a70e3982650b90', status='READY', status_message=None, tags={}, user_id=None, version=2>"
      ]
     },
     "execution_count": 48,
     "metadata": {},
     "output_type": "execute_result"
    }
   ],
   "source": [
    "# Register best model using its run_id\n",
    "model_uri = f\"runs:/{best_run_id}/model\"\n",
    "mlflow.register_model(model_uri, \"IrisBestModel\")\n"
   ]
  },
  {
   "cell_type": "code",
   "execution_count": 49,
   "id": "b9265632",
   "metadata": {},
   "outputs": [],
   "source": [
    "import mlflow.pyfunc\n",
    "\n",
    "model = mlflow.pyfunc.load_model(\"models:/IrisBestModel/2\")  # or /Staging"
   ]
  },
  {
   "cell_type": "code",
   "execution_count": 51,
   "id": "bcd21e94",
   "metadata": {},
   "outputs": [
    {
     "data": {
      "text/plain": [
       "mlflow.pyfunc.loaded_model:\n",
       "  artifact_path: file:d:/MLOPS/Iris-Classification/notebooks/../models/mlruns/709871268375005215/models/m-c24f54082aec4688b1a70e3982650b90/artifacts\n",
       "  flavor: mlflow.sklearn\n",
       "  run_id: 0f4b514109b04c949b12ae4dd83c8e08"
      ]
     },
     "execution_count": 51,
     "metadata": {},
     "output_type": "execute_result"
    }
   ],
   "source": [
    "model"
   ]
  },
  {
   "cell_type": "code",
   "execution_count": null,
   "id": "f029c4c6",
   "metadata": {},
   "outputs": [],
   "source": []
  }
 ],
 "metadata": {
  "kernelspec": {
   "display_name": "Python 3",
   "language": "python",
   "name": "python3"
  },
  "language_info": {
   "codemirror_mode": {
    "name": "ipython",
    "version": 3
   },
   "file_extension": ".py",
   "mimetype": "text/x-python",
   "name": "python",
   "nbconvert_exporter": "python",
   "pygments_lexer": "ipython3",
   "version": "3.13.1"
  }
 },
 "nbformat": 4,
 "nbformat_minor": 5
}
